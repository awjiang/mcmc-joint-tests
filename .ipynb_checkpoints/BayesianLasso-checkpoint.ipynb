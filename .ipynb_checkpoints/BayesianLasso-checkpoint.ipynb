{
 "cells": [
  {
   "cell_type": "code",
   "execution_count": null,
   "metadata": {
    "colab": {
     "base_uri": "https://localhost:8080/",
     "height": 124
    },
    "colab_type": "code",
    "id": "-qmfHknnq8KQ",
    "outputId": "8a19bf1f-95dd-4410-a3aa-dcfd3e94fe00"
   },
   "outputs": [],
   "source": [
    "# import os\n",
    "# from google.colab import drive\n",
    "# drive.mount('/content/drive', force_remount=True)\n",
    "# os.chdir('/content/drive/My Drive/Research/MSc_Project/mcmc-joint-tests')"
   ]
  },
  {
   "cell_type": "code",
   "execution_count": null,
   "metadata": {
    "colab": {},
    "colab_type": "code",
    "id": "boCI2-oyr-Uo"
   },
   "outputs": [],
   "source": [
    "%matplotlib inline\n",
    "import matplotlib\n",
    "from matplotlib import pyplot as plt\n",
    "import seaborn as sns\n",
    "from IPython.display import set_matplotlib_formats\n",
    "set_matplotlib_formats('retina')\n",
    "sns.set(rc={'figure.figsize':(11.7,8.27)})\n",
    "sns.set_palette(sns.color_palette())\n",
    "\n",
    "import pandas as pd\n",
    "import pickle\n",
    "\n",
    "from mcmcjoint.samplers import *\n",
    "from mcmcjoint.tests import *"
   ]
  },
  {
   "cell_type": "code",
   "execution_count": null,
   "metadata": {},
   "outputs": [],
   "source": [
    "seed = 10000\n",
    "m_dim = 1\n",
    "num_trials = 10\n",
    "nthreads = 10\n",
    "num_samples = 5e5\n",
    "burn_in_samples = 500\n",
    "geweke_thinning_samples = 25\n",
    "mmd_thinning_samples = 250\n",
    "tau = 2\n",
    "alpha = 0.05"
   ]
  },
  {
   "cell_type": "code",
   "execution_count": null,
   "metadata": {
    "colab": {
     "base_uri": "https://localhost:8080/",
     "height": 34
    },
    "colab_type": "code",
    "id": "BoE9zROEKRHw",
    "outputId": "4ae26e3b-48eb-4dd8-cf4b-8379d4a32a00"
   },
   "outputs": [],
   "source": [
    "for exper in range(3):\n",
    "    if exper == 0:\n",
    "        print(f'Experiment {exper}: no error')\n",
    "        model = bayes_lasso_sampler\n",
    "        exper_name = 'error_0'\n",
    "    else:\n",
    "        print(f'Experiment {exper}: error')\n",
    "        exec('model = bayes_lasso_sampler_error_'+str(exper))\n",
    "        exper_name = 'error_'+str(exper)\n",
    "        \n",
    "    bayes_lasso = bayes_lasso_sampler(n=1,p=3,Lambda=0.1,tau=1,sigma=1,epsilon_update=2,epsilon_birth=2,mode='exact',epsilon_approx=0,batch_size=None)\n",
    "    bayes_lasso.set_nthreads(1)\n",
    "    bayes_lasso.set_seed(seed)\n",
    "    bayes_lasso.drawData()\n",
    "    theta_indices = bayes_lasso.theta_indices\n",
    "    bayes_lasso_exper = sample_experiment(num_trials=num_trials, nthreads=nthreads, seed=seed,\n",
    "                                    sampler=bayes_lasso, \n",
    "                                    num_samples=num_samples, \n",
    "                                    burn_in_samples=burn_in_samples,\n",
    "                                    geweke_thinning_samples=geweke_thinning_samples,\n",
    "                                    mmd_thinning_samples=mmd_thinning_samples, \n",
    "                                    tau=tau, alpha=alpha, savedir = './results/bayes_lasso', experiment_name=exper_name)\n",
    "    lst_saved = bayes_lasso_exper.run()\n",
    "\n",
    "        "
   ]
  },
  {
   "cell_type": "code",
   "execution_count": null,
   "metadata": {},
   "outputs": [],
   "source": [
    "df_results = pd.DataFrame(index=np.arange(0, num_trials*3), columns=('experiment', 'test_type', 'result'))\n",
    "i=0\n",
    "for exper in range(2):\n",
    "    for thread in range(9):\n",
    "        for trial in range(1):\n",
    "            with open('./results/bayes_lasso/error_'+str(exper)+'_results_'+str(thread)+'_'+str(trial)+'.pkl', 'rb') as f:\n",
    "                result = pickle.load(f)[0][0]\n",
    "            df_results.loc[i] = [str(exper), 'geweke', onp.array(result['geweke'][0]).max()] # reject null if at least one test rejects\n",
    "            df_results.loc[i+1] = [str(exper), 'backward', float(result['backward'][0])]\n",
    "            df_results.loc[i+2] = [str(exper), 'wild', float(result['wild'][0])]\n",
    "            i+=3\n",
    "df_results['result'] = pd.to_numeric(df_results['result'])\n",
    "df_results=df_results.groupby(['experiment', 'test_type']).mean()\n",
    "df_results"
   ]
  },
  {
   "cell_type": "code",
   "execution_count": null,
   "metadata": {},
   "outputs": [],
   "source": [
    "# for j in range(9):\n",
    "#     with open('./results/bayes_lasso/error_'+str(0)+'_results_'+str(j)+'_'+str(0)+'.pkl', 'rb') as f:\n",
    "#         result = pickle.load(f)[0][0]['geweke']\n",
    "#     print(result)"
   ]
  },
  {
   "cell_type": "markdown",
   "metadata": {},
   "source": [
    "Testing"
   ]
  },
  {
   "cell_type": "code",
   "execution_count": null,
   "metadata": {},
   "outputs": [],
   "source": [
    "sample_size = 1e4\n",
    "bayes_lasso = bayes_lasso_sampler(n=1,p=2,Lambda=1,tau=1,sigma=1,epsilon_update=2,epsilon_birth=2,mode='exact',epsilon_approx=0,batch_size=None)\n",
    "bayes_lasso.set_nthreads(10)\n",
    "bayes_lasso.drawData()\n",
    "samples_p = bayes_lasso.sample_mc(sample_size)"
   ]
  },
  {
   "cell_type": "code",
   "execution_count": null,
   "metadata": {},
   "outputs": [],
   "source": [
    "samples_q = bayes_lasso.sample_bc(2000, 100)\n",
    "thinned_samples = onp.arange(0, int(sample_size), int(sample_size/2e3))\n",
    "mmd_test(samples_p[thinned_samples, :][:,bayes_lasso.theta_indices],samples_q[:, bayes_lasso.theta_indices], \n",
    "         sg.GaussianKernel(10, 1), \n",
    "         alpha=0.05)"
   ]
  },
  {
   "cell_type": "code",
   "execution_count": null,
   "metadata": {},
   "outputs": [],
   "source": [
    "samples_r = bayes_lasso.sample_sc(sample_size)\n",
    "thinned_samples = onp.arange(0, int(sample_size), int(sample_size/1e3))\n",
    "f_kernel = lambda X, Y: rbf_kernel(X, Y, tau=1)\n",
    "mmd_wb_test(samples_p[thinned_samples, :][:, bayes_lasso.theta_indices], samples_r[thinned_samples, :][:, bayes_lasso.theta_indices], f_kernel, alpha=0.05)"
   ]
  },
  {
   "cell_type": "code",
   "execution_count": null,
   "metadata": {},
   "outputs": [],
   "source": [
    "thinned_samples = onp.arange(0, int(sample_size), 1)\n",
    "res=geweke_test(geweke_functions(samples_p[thinned_samples, :][:, bayes_lasso.theta_indices]), geweke_functions(samples_r[thinned_samples, :][:, bayes_lasso.theta_indices]), l=0.08, alpha=0.05, use_bonferroni=False)\n",
    "print(res[0].mean())\n",
    "res\n"
   ]
  },
  {
   "cell_type": "code",
   "execution_count": null,
   "metadata": {},
   "outputs": [],
   "source": [
    "plt.plot(samples_p[thinned_samples, :][:100, bayes_lasso.theta_indices[0]])\n",
    "plt.plot(samples_r[thinned_samples, :][:100, bayes_lasso.theta_indices[0]])"
   ]
  },
  {
   "cell_type": "code",
   "execution_count": null,
   "metadata": {},
   "outputs": [],
   "source": [
    "for j in range(samples_p.shape[1]):\n",
    "    prob_plot(samples_p[:, :][:, j], samples_r[:, :][:, j])"
   ]
  },
  {
   "cell_type": "code",
   "execution_count": null,
   "metadata": {},
   "outputs": [],
   "source": []
  },
  {
   "cell_type": "code",
   "execution_count": null,
   "metadata": {},
   "outputs": [],
   "source": []
  }
 ],
 "metadata": {
  "colab": {
   "collapsed_sections": [],
   "name": "BayesianLasso.ipynb",
   "provenance": []
  },
  "kernelspec": {
   "display_name": "shogun",
   "language": "python",
   "name": "shogun"
  },
  "language_info": {
   "codemirror_mode": {
    "name": "ipython",
    "version": 3
   },
   "file_extension": ".py",
   "mimetype": "text/x-python",
   "name": "python",
   "nbconvert_exporter": "python",
   "pygments_lexer": "ipython3",
   "version": "3.6.10"
  }
 },
 "nbformat": 4,
 "nbformat_minor": 4
}
