{
 "cells": [
  {
   "cell_type": "code",
   "execution_count": null,
   "metadata": {},
   "outputs": [],
   "source": [
    "%matplotlib inline\n",
    "import matplotlib\n",
    "from matplotlib import pyplot as plt\n",
    "import seaborn as sns\n",
    "from IPython.display import set_matplotlib_formats\n",
    "set_matplotlib_formats('retina')\n",
    "sns.set(rc={'figure.figsize':(11.7,8.27)})\n",
    "sns.set_palette(sns.color_palette())\n",
    "\n",
    "import pandas as pd\n",
    "import pickle\n",
    "\n",
    "from mcmcjoint.samplers import *\n",
    "from mcmcjoint.tests import *"
   ]
  },
  {
   "cell_type": "code",
   "execution_count": null,
   "metadata": {},
   "outputs": [],
   "source": [
    "seed = 10000\n",
    "m_dim = 1\n",
    "num_trials = 5\n",
    "nthreads = 5\n",
    "num_samples = 5e5\n",
    "burn_in_samples = 0\n",
    "geweke_thinning_samples = 50\n",
    "mmd_thinning_samples = 500\n",
    "tau = 1\n",
    "alpha = 0.05"
   ]
  },
  {
   "cell_type": "code",
   "execution_count": null,
   "metadata": {
    "tags": []
   },
   "outputs": [],
   "source": [
    "for exper in range(1):\n",
    "    if exper == 0:\n",
    "        print(f'Experiment {exper}: no error')\n",
    "        model = t_mixture_sampler\n",
    "    else:\n",
    "        print(f'Experiment {exper}: error')\n",
    "        exec('model = t_mixture_sampler_error_'+str(exper))\n",
    "    t_mix = model(D=m_dim, M=2, N=2, v=5,\n",
    "        m_mu=[-1. * np.ones(m_dim), 1. * np.ones(m_dim)], \n",
    "        S_mu=[10. * np.identity(m_dim), 10. * np.identity(m_dim)], \n",
    "        v_Sigma=2.*np.array([3., 3.]), \n",
    "        Psi_Sigma=2.*np.array([1. * np.identity(m_dim), 1. * np.identity(m_dim)]), \n",
    "        alpha_p=np.array([2., 2.]))\n",
    "    t_mix.set_nthreads(1)\n",
    "    theta_indices = t_mix.theta_indices\n",
    "    t_mix_exper = sample_experiment(num_trials=num_trials, nthreads=nthreads, seed=seed,\n",
    "                                    sampler=t_mix, \n",
    "                                    num_samples=num_samples, \n",
    "                                    burn_in_samples=burn_in_samples,\n",
    "                                    geweke_thinning_samples=geweke_thinning_samples,\n",
    "                                    mmd_thinning_samples=mmd_thinning_samples, \n",
    "                                    tau=tau, alpha=alpha, savedir = './results/t_mixture', experiment_name=exper_name)\n",
    "    lst_saved = t_mix_exper.run()\n",
    "        "
   ]
  },
  {
   "cell_type": "code",
   "execution_count": null,
   "metadata": {},
   "outputs": [],
   "source": [
    "df_results = pd.DataFrame(index=np.arange(0, num_trials*3), columns=('experiment', 'test_type', 'result'))\n",
    "i=0\n",
    "for exper in range(2):\n",
    "    for thread in range(9):\n",
    "        for trial in range(1):\n",
    "            with open('./results/t_mixture/error_'+str(exper)+'_results_'+str(thread)+'_'+str(trial)+'.pkl', 'rb') as f:\n",
    "                result = pickle.load(f)[0][0]\n",
    "            df_results.loc[i] = [str(exper), 'geweke', onp.array(result['geweke'][0]).max()] # reject null if at least one test rejects\n",
    "            df_results.loc[i+1] = [str(exper), 'backward', float(result['backward'][0])]\n",
    "            df_results.loc[i+2] = [str(exper), 'wild', float(result['wild'][0])]\n",
    "            i+=3\n",
    "df_results['result'] = pd.to_numeric(df_results['result'])\n",
    "df_results=df_results.groupby(['experiment', 'test_type']).mean()\n",
    "df_results"
   ]
  },
  {
   "cell_type": "code",
   "execution_count": null,
   "metadata": {},
   "outputs": [],
   "source": []
  }
 ],
 "metadata": {
  "kernelspec": {
   "display_name": "shogun",
   "language": "python",
   "name": "shogun"
  },
  "language_info": {
   "codemirror_mode": {
    "name": "ipython",
    "version": 3
   },
   "file_extension": ".py",
   "mimetype": "text/x-python",
   "name": "python",
   "nbconvert_exporter": "python",
   "pygments_lexer": "ipython3",
   "version": "3.6.10"
  }
 },
 "nbformat": 4,
 "nbformat_minor": 4
}
