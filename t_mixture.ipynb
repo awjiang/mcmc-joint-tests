{
 "cells": [
  {
   "cell_type": "code",
   "execution_count": 1,
   "metadata": {},
   "outputs": [],
   "source": [
    "import matplotlib\n",
    "from matplotlib import pyplot as plt\n",
    "import seaborn as sns\n",
    "from IPython.display import set_matplotlib_formats\n",
    "set_matplotlib_formats('retina')\n",
    "sns.set(rc={'figure.figsize':(11.7,8.27)})\n",
    "sns.set_palette(sns.color_palette())\n",
    "\n",
    "import numpy as np\n",
    "import pandas as pd\n",
    "import shogun as sg\n",
    "from scipy.stats import invwishart, norm, multivariate_normal\n",
    "from scipy.special import loggamma\n",
    "from tqdm.notebook import tqdm\n",
    "import multiprocessing\n",
    "from itertools import repeat\n",
    "import copy\n",
    "import pickle\n",
    "\n",
    "from mcmcjoint.samplers import *\n",
    "from mcmcjoint.tests import *"
   ]
  },
  {
   "cell_type": "code",
   "execution_count": 2,
   "metadata": {},
   "outputs": [],
   "source": [
    "seed = 12345\n",
    "m_dim=1\n",
    "num_trials = 20\n",
    "nthreads = 10\n",
    "num_samples = 1000\n",
    "burn_in_samples = 250\n",
    "sc_thinning_samples = 250\n",
    "tau = 1\n",
    "alpha = 0.05"
   ]
  },
  {
   "cell_type": "code",
   "execution_count": 3,
   "metadata": {},
   "outputs": [],
   "source": [
    "for exper in range(1):\n",
    "    if exper == 0:\n",
    "        print(f'Experiment {exper}: no error')\n",
    "        model = t_mixture_sampler\n",
    "    else:\n",
    "        print(f'Experiment {exper}: error')\n",
    "        exec('model = t_mixture_sampler_error_'+str(exper))\n",
    "    t_mix = model(D=m_dim, M=2, N=6, v=5,\n",
    "        m_mu=[-2. * np.ones(m_dim), 2. * np.ones(m_dim)], \n",
    "        S_mu=[10. * np.identity(m_dim), 10. * np.identity(m_dim)], \n",
    "        v_Sigma=2.*np.array([1., 1.]), \n",
    "        Psi_Sigma=2.*np.array([1. * np.identity(m_dim), 1. * np.identity(m_dim)]), \n",
    "        alpha_p=np.array([1., 1.]))\n",
    "    t_mix.set_nthreads(1)\n",
    "    theta_indices = t_mix.theta_indices\n",
    "    t_mix_exper = sample_experiment(num_trials=num_trials, nthreads=nthreads, seed=seed,\n",
    "                                    sampler=t_mix, \n",
    "                                    num_samples=num_samples, \n",
    "                                    burn_in_samples=burn_in_samples,\n",
    "                                    sc_thinning_samples=sc_thinning_samples, \n",
    "                                    tau=tau, alpha=alpha)\n",
    "    out = t_mix_exper.run()\n",
    "    results = [trial[0] for trial in out]\n",
    "    samples = [trial[1] for trial in out]\n",
    "\n",
    "    with open('./results/t_mixture/experiment'+'_' + str(exper) +'_results.pkl', 'wb') as f:\n",
    "        pickle.dump(results, f)\n",
    "    with open('./samples/t_mixture/experiment_'+'_' + str(exper) +'_samples.pkl', 'wb') as f:\n",
    "        pickle.dump(samples, f)\n",
    "        "
   ]
  },
  {
   "cell_type": "code",
   "execution_count": null,
   "metadata": {},
   "outputs": [],
   "source": []
  }
 ],
 "metadata": {
  "kernelspec": {
   "display_name": "shogun",
   "language": "python",
   "name": "shogun"
  },
  "language_info": {
   "codemirror_mode": {
    "name": "ipython",
    "version": 3
   },
   "file_extension": ".py",
   "mimetype": "text/x-python",
   "name": "python",
   "nbconvert_exporter": "python",
   "pygments_lexer": "ipython3",
   "version": "3.7.6-final"
  }
 },
 "nbformat": 4,
 "nbformat_minor": 4
}